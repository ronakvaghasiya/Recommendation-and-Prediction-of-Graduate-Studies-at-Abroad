{
 "cells": [
  {
   "cell_type": "code",
   "execution_count": null,
   "metadata": {},
   "outputs": [],
   "source": [
    "import numpy as np\n",
    "import pandas as pd\n",
    "data=pd.read_csv('Admission_YesNo.csv')"
   ]
  },
  {
   "cell_type": "code",
   "execution_count": null,
   "metadata": {},
   "outputs": [],
   "source": [
    "data.info()"
   ]
  },
  {
   "cell_type": "code",
   "execution_count": null,
   "metadata": {},
   "outputs": [],
   "source": [
    "features=data.iloc[:,[1,2,3,4,5,6,7]]\n",
    "label=data.iloc[:,[8]]"
   ]
  },
  {
   "cell_type": "code",
   "execution_count": null,
   "metadata": {},
   "outputs": [],
   "source": [
    "from sklearn.model_selection import train_test_split\n",
    "for i in range(100):\n",
    "    x_train,x_test,y_train,y_test=train_test_split(features,label,test_size=0.2,random_state=i)\n",
    "    from sklearn.linear_model import LogisticRegression\n",
    "    lr=LogisticRegression()\n",
    "    lr.fit(x_train,y_train)\n",
    "    #print(lr.score(x_train,y_train))\n",
    "    #print(lr.score(x_test,y_test))\n",
    "    if(lr.score(x_test,y_test)>lr.score(x_train,y_train)):\n",
    "        print(i)\n",
    "        print(\"Training score=\",lr.score(x_train,y_train),\" Testing score=\",lr.score(x_test,y_test),\"State=\",i)\n",
    "    #print(lr.score(x_test,y_test)>lr.score(x_train,y_train),i)"
   ]
  },
  {
   "cell_type": "code",
   "execution_count": null,
   "metadata": {},
   "outputs": [],
   "source": [
    "#0-50,61\n",
    "#79-50,63\n",
    "#10,16,21,25,30,39,44,46,59,63,65,70,78,79,84,88,96,97,99\n",
    "from sklearn.model_selection import train_test_split\n",
    "x_train,x_test,y_train,y_test=train_test_split(features,label,test_size=0.2,random_state=0)\n",
    "from sklearn.linear_model import LogisticRegression\n",
    "lr=LogisticRegression()\n",
    "lr.fit(x_train,y_train)\n",
    "print(lr.score(x_train,y_train))\n",
    "print(lr.score(x_test,y_test))"
   ]
  },
  {
   "cell_type": "code",
   "execution_count": null,
   "metadata": {},
   "outputs": [],
   "source": [
    "from sklearn.metrics import confusion_matrix\n",
    "cm = confusion_matrix(y_test,lr.predict(x_test))\n",
    "\n",
    "import seaborn as sns\n",
    "import matplotlib.pyplot as plt\n",
    "f, ax = plt.subplots(figsize =(5,5))\n",
    "sns.heatmap(cm,annot = True,linewidths=0.5,linecolor=\"red\",fmt = \".0f\",ax=ax)\n",
    "plt.title(\"Confusion Metrix\")\n",
    "plt.xlabel(\"predicted y values\")\n",
    "plt.ylabel(\"real y values\")\n",
    "plt.show()"
   ]
  },
  {
   "cell_type": "code",
   "execution_count": null,
   "metadata": {},
   "outputs": [],
   "source": [
    "cm_train = confusion_matrix(y_train,lr.predict(x_train))\n",
    "f, ax = plt.subplots(figsize =(5,5))\n",
    "sns.heatmap(cm_train,annot = True,linewidths=0.5,linecolor=\"red\",fmt = \".0f\",ax=ax)\n",
    "plt.xlabel(\"predicted y values\")\n",
    "plt.ylabel(\"real y values\")\n",
    "plt.title(\"Confusion Metrix\")\n",
    "plt.show()"
   ]
  },
  {
   "cell_type": "code",
   "execution_count": null,
   "metadata": {},
   "outputs": [],
   "source": [
    "from sklearn.model_selection import train_test_split\n",
    "from sklearn.svm import SVC\n",
    "for i in range(100):\n",
    "    x_train,x_test,y_train,y_test=train_test_split(features,label,test_size=0.2,random_state=i)\n",
    "    svm = SVC(random_state = i)\n",
    "    svm.fit(x_train,y_train)\n",
    "    if(svm.score(x_test,y_test)>svm.score(x_train,y_train)):\n",
    "        print(i)\n",
    "        print(\"Training score=\",svm.score(x_train,y_train),\" Testing score=\",svm.score(x_test,y_test),\"State=\",i)\n",
    "    #print(lr.score(x_test,y_test)>lr.score(x_train,y_train),i)"
   ]
  },
  {
   "cell_type": "code",
   "execution_count": null,
   "metadata": {},
   "outputs": [],
   "source": [
    "from sklearn.model_selection import train_test_split\n",
    "from sklearn.svm import SVC\n",
    "x_train,x_test,y_train,y_test=train_test_split(features,label,test_size=0.2,random_state=4)\n",
    "#from sklearn.linear_model import LogisticRegression\n",
    "svm = SVC(random_state = 0)\n",
    "svm.fit(x_train,y_train)\n",
    "print(svm.score(x_train,y_train))\n",
    "print(svm.score(x_test,y_test))"
   ]
  },
  {
   "cell_type": "code",
   "execution_count": null,
   "metadata": {},
   "outputs": [],
   "source": [
    "from sklearn.metrics import confusion_matrix\n",
    "cm = confusion_matrix(y_test,svm.predict(x_test))\n",
    "\n",
    "import seaborn as sns\n",
    "import matplotlib.pyplot as plt\n",
    "f, ax = plt.subplots(figsize =(5,5))\n",
    "sns.heatmap(cm,annot = True,linewidths=0.5,linecolor=\"red\",fmt = \".0f\",ax=ax)\n",
    "plt.title(\"Confusion Metrix\")\n",
    "plt.xlabel(\"predicted y values\")\n",
    "plt.ylabel(\"real y values\")\n",
    "plt.show()"
   ]
  },
  {
   "cell_type": "code",
   "execution_count": null,
   "metadata": {},
   "outputs": [],
   "source": [
    "cm_train = confusion_matrix(y_train,svm.predict(x_train))\n",
    "f, ax = plt.subplots(figsize =(5,5))\n",
    "sns.heatmap(cm_train,annot = True,linewidths=0.5,linecolor=\"red\",fmt = \".0f\",ax=ax)\n",
    "plt.xlabel(\"predicted y values\")\n",
    "plt.ylabel(\"real y values\")\n",
    "plt.title(\"Confusion Metrix\")\n",
    "plt.show()"
   ]
  },
  {
   "cell_type": "code",
   "execution_count": null,
   "metadata": {},
   "outputs": [],
   "source": [
    "from sklearn.model_selection import train_test_split\n",
    "from sklearn.tree import DecisionTreeClassifier\n",
    "for i in range(100):\n",
    "    x_train,x_test,y_train,y_test=train_test_split(features,label,test_size=0.2,random_state=i)\n",
    "    dtc = DecisionTreeClassifier()\n",
    "    dtc.fit(x_train,y_train)\n",
    "    #if(dtc.score(x_test,y_test)>=dtc.score(x_train,y_train)):\n",
    "    #print(i)\n",
    "    print(\"Training score=\",dtc.score(x_train,y_train),\" Testing score=\",dtc.score(x_test,y_test),\"State=\",i)\n",
    "    #print(lr.score(x_test,y_test)>lr.score(x_train,y_train),i)"
   ]
  },
  {
   "cell_type": "code",
   "execution_count": null,
   "metadata": {},
   "outputs": [],
   "source": [
    "from sklearn.model_selection import train_test_split\n",
    "from sklearn.tree import DecisionTreeClassifier\n",
    "x_train,x_test,y_train,y_test=train_test_split(features,label,test_size=0.2,random_state=0)\n",
    "#from sklearn.linear_model import LogisticRegression\n",
    "dtc = DecisionTreeClassifier()\n",
    "dtc.fit(x_train,y_train)\n",
    "print(dtc.score(x_train,y_train))\n",
    "print(dtc.score(x_test,y_test))"
   ]
  },
  {
   "cell_type": "code",
   "execution_count": null,
   "metadata": {},
   "outputs": [],
   "source": [
    "from sklearn.metrics import confusion_matrix\n",
    "cm = confusion_matrix(y_test,dtc.predict(x_test))\n",
    "\n",
    "import seaborn as sns\n",
    "import matplotlib.pyplot as plt\n",
    "f, ax = plt.subplots(figsize =(5,5))\n",
    "sns.heatmap(cm,annot = True,linewidths=0.5,linecolor=\"red\",fmt = \".0f\",ax=ax)\n",
    "plt.title(\"Confusion Metrix\")\n",
    "plt.xlabel(\"predicted y values\")\n",
    "plt.ylabel(\"real y values\")\n",
    "plt.show()"
   ]
  },
  {
   "cell_type": "code",
   "execution_count": null,
   "metadata": {},
   "outputs": [],
   "source": [
    "cm_train = confusion_matrix(y_train,dtc.predict(x_train))\n",
    "f, ax = plt.subplots(figsize =(5,5))\n",
    "sns.heatmap(cm_train,annot = True,linewidths=0.5,linecolor=\"red\",fmt = \".0f\",ax=ax)\n",
    "plt.xlabel(\"predicted y values\")\n",
    "plt.ylabel(\"real y values\")\n",
    "plt.title(\"Confusion Metrix\")\n",
    "plt.show()"
   ]
  },
  {
   "cell_type": "code",
   "execution_count": null,
   "metadata": {},
   "outputs": [],
   "source": [
    "from sklearn.model_selection import train_test_split\n",
    "from sklearn.ensemble import RandomForestClassifier\n",
    "for i in range(100):\n",
    "    x_train,x_test,y_train,y_test=train_test_split(features,label,test_size=0.2,random_state=i)\n",
    "    rf = RandomForestClassifier(n_estimators = 100)\n",
    "    rf.fit(x_train,y_train)\n",
    "    #if(rf.score(x_test,y_test)>=rf.score(x_train,y_train)):\n",
    "    #    print(i)\n",
    "    #print(\"Training score=\",rf.score(x_train,y_train),\" Testing score=\",rf.score(x_test,y_test),\"State=\",i)\n",
    "    #print(lr.score(x_test,y_test)>lr.score(x_train,y_train),i)\n",
    "    if(rf.score(x_test,y_test)>0.97):\n",
    "        print(i)"
   ]
  },
  {
   "cell_type": "code",
   "execution_count": null,
   "metadata": {},
   "outputs": [],
   "source": [
    "#0,42,66\n",
    "from sklearn.model_selection import train_test_split\n",
    "from sklearn.ensemble import RandomForestClassifier\n",
    "x_train,x_test,y_train,y_test=train_test_split(features,label,test_size=0.2,random_state=42)\n",
    "#from sklearn.linear_model import LogisticRegression\n",
    "rf = RandomForestClassifier()\n",
    "rf.fit(x_train,y_train)\n",
    "print(rf.score(x_train,y_train))\n",
    "print(rf.score(x_test,y_test))"
   ]
  },
  {
   "cell_type": "code",
   "execution_count": null,
   "metadata": {},
   "outputs": [],
   "source": [
    "from sklearn.metrics import confusion_matrix\n",
    "cm = confusion_matrix(y_test,rf.predict(x_test))\n",
    "\n",
    "import seaborn as sns\n",
    "import matplotlib.pyplot as plt\n",
    "f, ax = plt.subplots(figsize =(5,5))\n",
    "sns.heatmap(cm,annot = True,linewidths=0.5,linecolor=\"red\",fmt = \".0f\",ax=ax)\n",
    "plt.title(\"Confusion Metrix\")\n",
    "plt.xlabel(\"predicted y values\")\n",
    "plt.ylabel(\"real y values\")\n",
    "plt.show()"
   ]
  },
  {
   "cell_type": "code",
   "execution_count": null,
   "metadata": {},
   "outputs": [],
   "source": [
    "cm_train = confusion_matrix(y_train,rf.predict(x_train))\n",
    "f, ax = plt.subplots(figsize =(5,5))\n",
    "sns.heatmap(cm_train,annot = True,linewidths=0.5,linecolor=\"red\",fmt = \".0f\",ax=ax)\n",
    "plt.xlabel(\"predicted y values\")\n",
    "plt.ylabel(\"real y values\")\n",
    "plt.title(\"Confusion Metrix\")\n",
    "plt.show()"
   ]
  },
  {
   "cell_type": "code",
   "execution_count": null,
   "metadata": {},
   "outputs": [],
   "source": [
    "from sklearn.model_selection import train_test_split\n",
    "from sklearn.neighbors import KNeighborsClassifier\n",
    "for i in range(100):\n",
    "    x_train,x_test,y_train,y_test=train_test_split(features,label,test_size=0.2,random_state=i)\n",
    "    knn=KNeighborsRegressor(n_neighbors=3)\n",
    "    knn.fit(x_train,y_train)\n",
    "    if(knn.score(x_test,y_test)>0.85):\n",
    "       print(i)\n",
    "       print(knn.score(x_train,y_train))\n",
    "       print(knn.score(x_test,y_test))"
   ]
  },
  {
   "cell_type": "code",
   "execution_count": null,
   "metadata": {},
   "outputs": [],
   "source": [
    "from sklearn.model_selection import train_test_split\n",
    "from sklearn.neighbors import KNeighborsClassifier\n",
    "x_train,x_test,y_train,y_test=train_test_split(features,label,test_size=0.2,random_state=39)\n",
    "knn=KNeighborsClassifier(n_neighbors=9)\n",
    "knn.fit(x_train,y_train)\n",
    "print(knn.score(x_train,y_train))\n",
    "print(knn.score(x_test,y_test))"
   ]
  },
  {
   "cell_type": "code",
   "execution_count": null,
   "metadata": {},
   "outputs": [],
   "source": [
    "from sklearn.metrics import confusion_matrix\n",
    "import seaborn as sns\n",
    "import matplotlib.pyplot as plt\n",
    "cm_train = confusion_matrix(y_train,knn.predict(x_train))\n",
    "f, ax = plt.subplots(figsize =(5,5))\n",
    "sns.heatmap(cm_train,annot = True,linewidths=0.5,linecolor=\"red\",fmt = \".0f\",ax=ax)\n",
    "plt.xlabel(\"predicted y values\")\n",
    "plt.ylabel(\"real y values\")\n",
    "plt.title(\"Confusion Metrix\")\n",
    "plt.show()"
   ]
  },
  {
   "cell_type": "code",
   "execution_count": null,
   "metadata": {},
   "outputs": [],
   "source": []
  }
 ],
 "metadata": {
  "kernelspec": {
   "display_name": "Python 3.10.4 64-bit",
   "language": "python",
   "name": "python3"
  },
  "language_info": {
   "codemirror_mode": {
    "name": "ipython",
    "version": 3
   },
   "file_extension": ".py",
   "mimetype": "text/x-python",
   "name": "python",
   "nbconvert_exporter": "python",
   "pygments_lexer": "ipython3",
   "version": "3.10.4"
  },
  "vscode": {
   "interpreter": {
    "hash": "38d9aa8833861d1858edd1fd05f2d1b14e9999c8928ba3ca23d6ee10ffd5037b"
   }
  }
 },
 "nbformat": 4,
 "nbformat_minor": 2
}
